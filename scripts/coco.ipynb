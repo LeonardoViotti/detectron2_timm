{
 "cells": [
  {
   "cell_type": "code",
   "execution_count": null,
   "id": "x3o2rXLOoofL",
   "metadata": {
    "id": "x3o2rXLOoofL"
   },
   "outputs": [],
   "source": [
    "!pip install git+https://github.com/facebookresearch/detectron2@main\n",
    "!pip install git+https://github.com/rwightman/pytorch-image-models@main"
   ]
  },
  {
   "cell_type": "code",
   "execution_count": null,
   "id": "c5cDMnZrqlrS",
   "metadata": {
    "id": "c5cDMnZrqlrS"
   },
   "outputs": [],
   "source": [
    "!git clone https://github.com/iKrishneel/detectron2_timm.git\n",
    "%cd /content/detectron2_timm/\n",
    "!git pull origin master\n",
    "!pip install -e ."
   ]
  },
  {
   "cell_type": "code",
   "execution_count": null,
   "id": "btpVfFyrsTi1",
   "metadata": {
    "id": "btpVfFyrsTi1"
   },
   "outputs": [],
   "source": [
    "!wget https://dl.fbaipublicfiles.com/xcit/coco/maskrcnn_xcit_small_12_p8.pth"
   ]
  },
  {
   "cell_type": "code",
   "execution_count": null,
   "id": "r4cuQh_Muj6F",
   "metadata": {
    "id": "r4cuQh_Muj6F"
   },
   "outputs": [],
   "source": [
    "!python ./tools/weight_converter.py --name mrcnn_xcit_small_12_p8 --weights ./maskrcnn_xcit_small_12_p8.pth --output_dir ./pretrained/"
   ]
  },
  {
   "cell_type": "code",
   "execution_count": 1,
   "id": "sVETU5RrpukA",
   "metadata": {
    "id": "sVETU5RrpukA"
   },
   "outputs": [],
   "source": [
    "import os.path as osp\n",
    "import numpy as np\n",
    "import cv2 as cv\n",
    "import matplotlib.pyplot as plt\n",
    "\n",
    "import torch\n",
    "from torchvision.datasets import CocoDetection\n",
    "\n",
    "from detectron2.engine.defaults import DefaultPredictor\n",
    "from detectron2.utils.visualizer import Visualizer\n",
    "from detectron2.data import MetadataCatalog\n",
    "\n",
    "from detectron2_timm.config import get_cfg"
   ]
  },
  {
   "cell_type": "code",
   "execution_count": null,
   "id": "0810b6ab-936d-46e7-98a0-0c708a758165",
   "metadata": {
    "id": "0810b6ab-936d-46e7-98a0-0c708a758165"
   },
   "outputs": [],
   "source": [
    "\"\"\"\n",
    "root = '/workspace/research/datasets/coco/'\n",
    "dataset = CocoDetection(\n",
    "    osp.join(root, 'val2017'), \n",
    "    annFile=osp.join(root, 'annotations/instances_val2017.json')\n",
    ")\n",
    "\"\"\"\n",
    "\n",
    "folder_name = '../config/'\n",
    "cfg = get_cfg()\n",
    "cfg.merge_from_file('./config/xcit/xcit_small_12_p8_224_fpn.yaml')\n",
    "cfg.MODEL.DEVICE = \"cpu\"\n",
    "cfg.MODEL.WEIGHTS = './pretrained/mrcnn_xcit_small_12_p8.pth'\n",
    "\n",
    "predictor = DefaultPredictor(cfg)\n",
    "metadata = MetadataCatalog.get(cfg.DATASETS.TEST[0])"
   ]
  },
  {
   "cell_type": "code",
   "execution_count": null,
   "id": "333bb7f2-92ba-44ef-8242-1528df3cdcbb",
   "metadata": {
    "id": "333bb7f2-92ba-44ef-8242-1528df3cdcbb"
   },
   "outputs": [],
   "source": [
    "plt.rcParams['figure.figsize'] = [12, 8]\n",
    "plt.rcParams['figure.dpi'] = 80 "
   ]
  },
  {
   "cell_type": "code",
   "execution_count": null,
   "id": "Z2q05Jwqx0qc",
   "metadata": {
    "id": "Z2q05Jwqx0qc"
   },
   "outputs": [],
   "source": [
    "def test_one(image, threshold=0.5):\n",
    "    visualizer = Visualizer(image, metadata=metadata, scale=1.0)\n",
    "    \n",
    "    r = predictor(image)\n",
    "    instances = r['instances'].to('cpu').get_fields()\n",
    "   \n",
    "    scores = instances['scores'].numpy()\n",
    "    remove_indices = scores < threshold\n",
    "    \n",
    "    scores = np.delete(scores, remove_indices, 0)\n",
    "    bboxes = np.delete(instances['pred_boxes'].tensor.numpy(), remove_indices, 0)\n",
    "    labels = np.delete(instances['pred_classes'].numpy(), remove_indices, 0)\n",
    "    \n",
    "    try:\n",
    "        masks = np.delete(instances['pred_masks'].numpy(), remove_indices, 0)\n",
    "    except KeyError:\n",
    "        masks = None\n",
    "\n",
    "    labels = np.array(metadata.get('thing_classes'))[labels]\n",
    "    viz = visualizer.overlay_instances(labels=labels, boxes=bboxes, masks=masks)\n",
    "    \n",
    "    image = viz.get_image()\n",
    "\n",
    "    plt.axis('off')\n",
    "    plt.imshow(image)\n",
    "    plt.show()"
   ]
  },
  {
   "cell_type": "code",
   "execution_count": null,
   "id": "g9ijpEA4yQi_",
   "metadata": {
    "id": "g9ijpEA4yQi_"
   },
   "outputs": [],
   "source": [
    "!wget http://injapan.gaijinpot.com/wp-content/uploads/2013/06/bus.jpg -O bus.jpg\n",
    "\n",
    "im = cv.imread('bus.jpg')\n",
    "test_one(im)"
   ]
  }
 ],
 "metadata": {
  "colab": {
   "collapsed_sections": [],
   "name": "coco.ipynb",
   "provenance": []
  },
  "kernelspec": {
   "display_name": "Python 3",
   "language": "python",
   "name": "python3"
  },
  "language_info": {
   "codemirror_mode": {
    "name": "ipython",
    "version": 3
   },
   "file_extension": ".py",
   "mimetype": "text/x-python",
   "name": "python",
   "nbconvert_exporter": "python",
   "pygments_lexer": "ipython3",
   "version": "3.8.8"
  }
 },
 "nbformat": 4,
 "nbformat_minor": 5
}
